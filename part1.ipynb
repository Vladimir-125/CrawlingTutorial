{
 "metadata": {
  "language_info": {
   "codemirror_mode": {
    "name": "ipython",
    "version": 3
   },
   "file_extension": ".py",
   "mimetype": "text/x-python",
   "name": "python",
   "nbconvert_exporter": "python",
   "pygments_lexer": "ipython3",
   "version": 3
  },
  "orig_nbformat": 2,
  "kernelspec": {
   "name": "python_defaultSpec_1597198423915",
   "display_name": "Python 3.8.3 64-bit ('torch': conda)"
  }
 },
 "nbformat": 4,
 "nbformat_minor": 2,
 "cells": [
  {
   "cell_type": "markdown",
   "metadata": {},
   "source": [
    "### _BeautifulSoup_ [documentation] (https://www.crummy.com/software/BeautifulSoup/bs4/doc/)"
   ]
  },
  {
   "cell_type": "markdown",
   "metadata": {},
   "source": [
    "<img src=\"./images/WebPage.PNG\" width=\"800px\" style=\"margin:auto;\">"
   ]
  },
  {
   "cell_type": "code",
   "execution_count": 67,
   "metadata": {},
   "outputs": [
    {
     "output_type": "execute_result",
     "data": {
      "text/plain": "True"
     },
     "metadata": {},
     "execution_count": 67
    }
   ],
   "source": [
    "import webbrowser\n",
    "webbrowser.open('file://' + os.path.realpath('index.html'))"
   ]
  },
  {
   "cell_type": "code",
   "execution_count": 2,
   "metadata": {},
   "outputs": [],
   "source": [
    "# helps to open url\n",
    "import urllib\n",
    "# helps to parse html \n",
    "from bs4 import BeautifulSoup"
   ]
  },
  {
   "cell_type": "code",
   "execution_count": 3,
   "metadata": {},
   "outputs": [],
   "source": [
    "# open url and get all the content\n",
    "url = \"http://category.gmarket.co.kr/listview/L100000002.aspx\"\n",
    "file_ = urllib.request.urlopen(url)\n",
    "webpage = file_.read()"
   ]
  },
  {
   "cell_type": "code",
   "execution_count": 4,
   "metadata": {},
   "outputs": [],
   "source": [
    "#Parse the html in the 'webpage' variable, and store it in Beautiful Soup format\n",
    "soup = BeautifulSoup(webpage)"
   ]
  },
  {
   "cell_type": "code",
   "execution_count": null,
   "metadata": {},
   "outputs": [],
   "source": [
    "soup.prettify()"
   ]
  },
  {
   "cell_type": "markdown",
   "metadata": {},
   "source": [
    "#### We can access data inside the HTML using:\n",
    "- Unique ids\n",
    "- Not unique classes\n",
    "- Not unique tag names"
   ]
  },
  {
   "cell_type": "code",
   "execution_count": 7,
   "metadata": {},
   "outputs": [],
   "source": [
    "# search for a specific id\n",
    "soup.find(id=\"container\")"
   ]
  },
  {
   "cell_type": "code",
   "execution_count": null,
   "metadata": {},
   "outputs": [],
   "source": [
    "# search for a class\n",
    "soup.find(class_=\"plus-goods-cont\")"
   ]
  },
  {
   "cell_type": "code",
   "execution_count": null,
   "metadata": {},
   "outputs": [],
   "source": [
    "# search for classes\n",
    "soup.find_all(class_=\"plus-goods-cont\")"
   ]
  },
  {
   "cell_type": "code",
   "execution_count": null,
   "metadata": {},
   "outputs": [],
   "source": [
    "# search for a tag\n",
    "soup.find('body')"
   ]
  },
  {
   "cell_type": "markdown",
   "metadata": {},
   "source": [
    "## Let's get some meaningful data"
   ]
  },
  {
   "cell_type": "code",
   "execution_count": 18,
   "metadata": {
    "tags": []
   },
   "outputs": [],
   "source": [
    "plus_goods = soup.find(class_=\"plus-goods-cont\")"
   ]
  },
  {
   "cell_type": "code",
   "execution_count": 22,
   "metadata": {},
   "outputs": [],
   "source": [
    "goods_list = plus_goods.find_all('li')"
   ]
  },
  {
   "cell_type": "code",
   "execution_count": null,
   "metadata": {},
   "outputs": [],
   "source": [
    "# verify that there are in fact 6 elements\n",
    "len(goods_list)"
   ]
  },
  {
   "cell_type": "code",
   "execution_count": 52,
   "metadata": {
    "tags": []
   },
   "outputs": [
    {
     "output_type": "stream",
     "name": "stdout",
     "text": "A급 중고노트북 /지마켓최저가 /1년무상보증 가성비굿 ==> 209,000원\n15U560 6세대 i5탑재 온라인 수업 추천 윈도우10 무료 ==> 649,000원\nThinkBook 15-IIL 20SMA00GKR 특가64만 i5/256G/8G ==> 699,000원\n울트라PC 15UD50N-GX30K 우리만 66만구매 인텔i3노트북 ==> 718,000원\nInspiron15 5590 D001I5590007KR 단하루69만사은품증정 ==> 699,000원\nASUS S533FL-BQ502 i5-10210U 8G 512G MX250  레드 ==> 849,000원\n"
    }
   ],
   "source": [
    "for good in goods_list:\n",
    "    name  = good.find(class_='name').get_text()\n",
    "    price = good.find(class_='price').get_text()\n",
    "    print(f'{name} ==> {price}')"
   ]
  }
 ]
}
